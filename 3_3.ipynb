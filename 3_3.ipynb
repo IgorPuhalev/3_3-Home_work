{
 "cells": [
  {
   "cell_type": "code",
   "execution_count": 2,
   "id": "54d61429",
   "metadata": {},
   "outputs": [
    {
     "data": {
      "text/plain": [
       "'C:\\\\Spark\\\\spark-3.3.1-bin-hadoop3'"
      ]
     },
     "execution_count": 2,
     "metadata": {},
     "output_type": "execute_result"
    }
   ],
   "source": [
    "import findspark\n",
    "findspark.init()\n",
    "findspark.find()"
   ]
  },
  {
   "cell_type": "code",
   "execution_count": 3,
   "id": "f733ef15",
   "metadata": {},
   "outputs": [],
   "source": [
    "import pyspark.sql.types as T\n",
    "import pyspark.sql.functions as F\n",
    "import datetime\n",
    "from pyspark.sql import SparkSession"
   ]
  },
  {
   "cell_type": "code",
   "execution_count": 4,
   "id": "093579e7",
   "metadata": {},
   "outputs": [],
   "source": [
    "spark = SparkSession.builder.master(\"local\").\\\n",
    "                appName(\"Home_work 3_3\").\\\n",
    "                config(\"spark.driver.bindAddres\",\"localhost\").\\\n",
    "                config(\"spark.ui.port\",\"4040\").\\\n",
    "                getOrCreate()"
   ]
  },
  {
   "cell_type": "code",
   "execution_count": 161,
   "id": "63f59702",
   "metadata": {},
   "outputs": [],
   "source": [
    "schema_web=T.StructType([\n",
    "            T.StructField(\"id\",T.StringType(),True),\n",
    "            T.StructField(\"timestamp\",T.LongType(),True),\n",
    "            T.StructField(\"type\",T.StringType(),True),\n",
    "            T.StructField(\"page_id\",T.IntegerType(),True),\n",
    "            T.StructField(\"yag\",T.StringType(),True),\n",
    "            T.StructField(\"sign\",T.BooleanType(),True)])\n",
    "\n",
    "schema_lk=T.StructType([\n",
    "            T.StructField(\"id\",T.StringType(),True),\n",
    "            T.StructField(\"user_id\",T.IntegerType(),True),\n",
    "            T.StructField(\"fio\",T.StringType(),True),\n",
    "            T.StructField(\"dob\",T.DateType(),True),\n",
    "            T.StructField(\"date lk\",T.DateType(),True)])"
   ]
  },
  {
   "cell_type": "code",
   "execution_count": 162,
   "id": "6ee6e420",
   "metadata": {},
   "outputs": [],
   "source": [
    "data_web = [(1,1667627426,\"visit\",247,\"Sport\",False),\n",
    "            (1,1668627475,\"click\",243,\"Sport\",False),\n",
    "            (1,1667827488,\"click\",315,\"Medicine\",False),\n",
    "            (1,1664627515,\"move\",181,\"Politics\",False),\n",
    "            (1,1657627560,\"scroll\",127,\"Politics\",False),\n",
    "            (2,1671627670,\"click\",315,\"Medicine\",True),\n",
    "            (2,1673627698,\"click\",217,\"Sport\",True),\n",
    "            (2,1665627723,\"click\",243,\"Sport\",True),\n",
    "            (2,1667627765,\"scroll\",211,\"Sport\",True),\n",
    "            (3,1667627810,\"visit\",152,\"Politics\",True),\n",
    "            (3,1668827905,\"move\",249,\"Sport\",True),\n",
    "            (3,1666228160,\"click\",274,\"Sport\",True),\n",
    "            (4,1667628516,\"visit\",315,\"Medicine\",False),\n",
    "            (4,1669128628,\"click\",243,\"Sport\",False),\n",
    "            (4,1665428790,\"click\",232,\"Sport\",False),\n",
    "            (5,1664828852,\"visit\",174,\"Politics\",True),\n",
    "            (5,1667628917,\"scroll\",256,\"Sport\",True),\n",
    "            (6,1663428917,\"visit\",315,\"Medicine\",True),\n",
    "            (6,1665728917,\"click\",243,\"Sport\",True),\n",
    "            (6,1662128917,\"click\",687,\"Sport\",True),\n",
    "            (6,1666428917,\"scroll\",256,\"Sport\",True),\n",
    "            (6,1665728917,\"click\",315,\"Medicine\",True),\n",
    "            (6,1668928917,\"click\",122,\"Politics\",True),\n",
    "            (6,1669328917,\"scroll\",357,\"Sport\",True),\n",
    "            (6,1668528917,\"click\",256,\"Sport\",True),\n",
    "            (7,1667428917,\"visit\",844,\"Sport\",False),\n",
    "            (7,1669028917,\"move\",315,\"Medicine\",False),\n",
    "            (7,1663928917,\"click\",122,\"Politics\",False),\n",
    "            (7,1664428917,\"click\",256,\"Sport\",False)]"
   ]
  },
  {
   "cell_type": "code",
   "execution_count": 165,
   "id": "75f41014",
   "metadata": {},
   "outputs": [],
   "source": [
    "data_lk=[(101,1,\"Скворцов Юрий Сергеевич\",datetime.datetime(1964,9,23),datetime.datetime(2018,4,22)),\n",
    "         (102,2,\"Любимов Дмитрий Кузьмич\",datetime.datetime(1964,9,23),datetime.datetime(2018,4,22)),\n",
    "         (103,3,\"Петровва Ольга Александровна\",datetime.datetime(1964,9,23),datetime.datetime(2018,4,22)),\n",
    "         (104,4,\"Поляков Егор Владимирович\",datetime.datetime(1964,9,23),datetime.datetime(2018,4,22)),\n",
    "         (105,5,\"Маклакова Юлия Сергеевна\",datetime.datetime(1964,9,23),datetime.datetime(2018,4,22)),\n",
    "         (106,6,\"Дроздов Антон Елизарович\",datetime.datetime(1964,9,23),datetime.datetime(2018,4,22)),\n",
    "         (107,7,\"Перминова Оксана Владиленовна\",datetime.datetime(1964,9,23),datetime.datetime(2018,4,22))]"
   ]
  },
  {
   "cell_type": "code",
   "execution_count": 166,
   "id": "916dfe9a",
   "metadata": {},
   "outputs": [],
   "source": [
    "df_web=spark.createDataFrame(data=data_web,schema=schema_web)\n",
    "df_lk=spark.createDataFrame(data=data_lk,schema=schema_lk)"
   ]
  },
  {
   "cell_type": "code",
   "execution_count": 141,
   "id": "d833adb0",
   "metadata": {},
   "outputs": [
    {
     "name": "stdout",
     "output_type": "stream",
     "text": [
      "Топ 5 пользователей по количеству событий\n",
      "+---+-----+\n",
      "| id|count|\n",
      "+---+-----+\n",
      "|  6|    8|\n",
      "|  1|    5|\n",
      "|  7|    4|\n",
      "|  2|    4|\n",
      "|  3|    3|\n",
      "+---+-----+\n",
      "\n"
     ]
    }
   ],
   "source": [
    "print(\"Топ 5 пользователей по количеству событий\")\n",
    "\n",
    "df_web.groupby(\"id\")\\\n",
    "        .count()\\\n",
    "        .orderBy(\"count\",ascending=False)\\\n",
    "        .limit(5)\\\n",
    "        .show()"
   ]
  },
  {
   "cell_type": "code",
   "execution_count": 75,
   "id": "1ada8aa4",
   "metadata": {
    "scrolled": true
   },
   "outputs": [
    {
     "name": "stdout",
     "output_type": "stream",
     "text": [
      "Пользователей с личным кабинетом: 57 %\n"
     ]
    }
   ],
   "source": [
    "df_cnt_all=df_web.agg(F.countDistinct(\"id\").alias(\"count_all\"))\n",
    "df_cnt_tru=df_web.select(\"sign\",\"id\")\\\n",
    "      .where(df_web.sign==True)\\\n",
    "      .agg(F.countDistinct(\"id\").alias(\"count_tru\"))\n",
    "cnt_tru=df_cnt_tru.head()[\"count_tru\"]\n",
    "cnt_all=df_cnt_all.head()[\"count_all\"]\n",
    "percent=cnt_tru/cnt_all*100\n",
    "print(\"Пользователей с личным кабинетом:\", int(percent),\"%\")"
   ]
  },
  {
   "cell_type": "code",
   "execution_count": 138,
   "id": "7e515b8e",
   "metadata": {},
   "outputs": [
    {
     "name": "stdout",
     "output_type": "stream",
     "text": [
      "Топ 5 страниц по количеству кликов\n",
      "+-------+-----+\n",
      "|page_id|count|\n",
      "+-------+-----+\n",
      "|    243|    4|\n",
      "|    315|    3|\n",
      "|    122|    2|\n",
      "|    256|    2|\n",
      "|    232|    1|\n",
      "+-------+-----+\n",
      "\n"
     ]
    }
   ],
   "source": [
    "print(\"Топ 5 страниц по количеству кликов\")\n",
    "\n",
    "df_web.where(df_web.type==\"click\")\\\n",
    "        .orderBy(\"page_id\",ascending=False)\\\n",
    "        .groupby(\"page_id\")\\\n",
    "        .count()\\\n",
    "        .orderBy(\"count\",ascending=False)\\\n",
    "        .limit(5)\\\n",
    "        .show()"
   ]
  },
  {
   "cell_type": "code",
   "execution_count": 172,
   "id": "0a6f3da1",
   "metadata": {},
   "outputs": [
    {
     "name": "stdout",
     "output_type": "stream",
     "text": [
      "События в диапазонах суток\n",
      "+---+------+-------+--------+-----+-------------------+----------+\n",
      "| id|  type|page_id|     yag| sign|         event_time|day_period|\n",
      "+---+------+-------+--------+-----+-------------------+----------+\n",
      "|  1| visit|    247|   Sport|false|2022-11-05 08:50:26|         3|\n",
      "|  1| click|    243|   Sport|false|2022-11-16 22:37:55|         6|\n",
      "|  1| click|    315|Medicine|false|2022-11-07 16:24:48|         5|\n",
      "|  1|  move|    181|Politics|false|2022-10-01 15:31:55|         4|\n",
      "|  1|scroll|    127|Politics|false|2022-07-12 15:06:00|         4|\n",
      "|  2| click|    315|Medicine| true|2022-12-21 16:01:10|         5|\n",
      "|  2| click|    217|   Sport| true|2023-01-13 19:34:58|         5|\n",
      "|  2| click|    243|   Sport| true|2022-10-13 05:22:03|         2|\n",
      "|  2|scroll|    211|   Sport| true|2022-11-05 08:56:05|         3|\n",
      "|  3| visit|    152|Politics| true|2022-11-05 08:56:50|         3|\n",
      "|  3|  move|    249|   Sport| true|2022-11-19 06:18:25|         2|\n",
      "|  3| click|    274|   Sport| true|2022-10-20 04:09:20|         2|\n",
      "|  4| visit|    315|Medicine|false|2022-11-05 09:08:36|         3|\n",
      "|  4| click|    243|   Sport|false|2022-11-22 17:50:28|         5|\n",
      "|  4| click|    232|   Sport|false|2022-10-10 22:06:30|         6|\n",
      "|  5| visit|    174|Politics| true|2022-10-03 23:27:32|         6|\n",
      "|  5|scroll|    256|   Sport| true|2022-11-05 09:15:17|         3|\n",
      "|  6| visit|    315|Medicine| true|2022-09-17 18:35:17|         5|\n",
      "|  6| click|    243|   Sport| true|2022-10-14 09:28:37|         3|\n",
      "|  6| click|    687|   Sport| true|2022-09-02 17:28:37|         5|\n",
      "|  6|scroll|    256|   Sport| true|2022-10-22 11:55:17|         3|\n",
      "|  6| click|    315|Medicine| true|2022-10-14 09:28:37|         3|\n",
      "|  6| click|    122|Politics| true|2022-11-20 10:21:57|         3|\n",
      "|  6|scroll|    357|   Sport| true|2022-11-25 01:28:37|         1|\n",
      "|  6| click|    256|   Sport| true|2022-11-15 19:15:17|         5|\n",
      "|  7| visit|    844|   Sport|false|2022-11-03 01:41:57|         1|\n",
      "|  7|  move|    315|Medicine|false|2022-11-21 14:08:37|         4|\n",
      "|  7| click|    122|Politics|false|2022-09-23 13:28:37|         4|\n",
      "|  7| click|    256|   Sport|false|2022-09-29 08:21:57|         3|\n",
      "+---+------+-------+--------+-----+-------------------+----------+\n",
      "\n"
     ]
    }
   ],
   "source": [
    "print(\"События в диапазонах суток\")\n",
    "df_web=df_web.select(*[i for i in df_web.columns if i !=\"timestamp\"],\n",
    "                       F.from_unixtime(\"timestamp\").alias(\"event_time\"))\n",
    "df_web.withColumn(\"day_period\",F.floor(F.hour(\"event_time\")/F.lit(4)+1)).show(30)"
   ]
  },
  {
   "cell_type": "code",
   "execution_count": 156,
   "id": "dbf36df5",
   "metadata": {},
   "outputs": [
    {
     "name": "stdout",
     "output_type": "stream",
     "text": [
      "Период суток с максимальным количеством событий\n",
      "+----------+-----+\n",
      "|day_period|count|\n",
      "+----------+-----+\n",
      "|         3|   10|\n",
      "+----------+-----+\n",
      "\n"
     ]
    }
   ],
   "source": [
    "print(\"Период суток с максимальным количеством событий\")\n",
    "\n",
    "hit_ev_period=df_web.withColumn(\"day_period\",F.floor(F.hour(\"event_time\")/F.lit(4)+1))\n",
    "\n",
    "hit_ev_period.groupby(\"day_period\")\\\n",
    "        .count()\\\n",
    "        .orderBy(\"count\",ascending=False)\\\n",
    "        .limit(1)\\\n",
    "        .show()"
   ]
  },
  {
   "cell_type": "code",
   "execution_count": 24,
   "id": "c175432a",
   "metadata": {},
   "outputs": [
    {
     "name": "stdout",
     "output_type": "stream",
     "text": [
      "+---+------------+-----------+\n",
      "| id|max(page_id)|count(type)|\n",
      "+---+------------+-----------+\n",
      "|  7|         844|          4|\n",
      "|  3|         274|          3|\n",
      "|  5|         256|          2|\n",
      "|  6|         687|          8|\n",
      "|  1|         315|          5|\n",
      "|  4|         315|          3|\n",
      "|  2|         315|          4|\n",
      "+---+------------+-----------+\n",
      "\n"
     ]
    }
   ],
   "source": [
    "df_web.groupby(\"id\")\\\n",
    "        .agg({\n",
    "                \"type\": \"count\",\n",
    "                \"page_id\": \"max\"    \n",
    "            })\\\n",
    "        .show(20)"
   ]
  },
  {
   "cell_type": "code",
   "execution_count": 171,
   "id": "313d88af",
   "metadata": {},
   "outputs": [
    {
     "name": "stdout",
     "output_type": "stream",
     "text": [
      "Пользователи, заходившие на страницы раздела Sport\n",
      "+--------------------+-----+\n",
      "|                 fio|count|\n",
      "+--------------------+-----+\n",
      "|Дроздов Антон Ели...|    5|\n",
      "|Любимов Дмитрий К...|    3|\n",
      "|Поляков Егор Влад...|    2|\n",
      "|Петровва Ольга Ал...|    2|\n",
      "|Перминова Оксана ...|    2|\n",
      "|Скворцов Юрий Сер...|    2|\n",
      "|Маклакова Юлия Се...|    1|\n",
      "+--------------------+-----+\n",
      "\n"
     ]
    }
   ],
   "source": [
    "print(\"Пользователи, заходившие на страницы раздела Sport\")\n",
    "df_all=df_lk.alias(\"lk\").join(df_web.alias(\"web\"),\n",
    "                            on=[F.col(\"lk.user_id\")==F.col(\"web.id\")],\n",
    "                            how=\"left\")\n",
    "df_all.where(df_all.yag==\"Sport\")\\\n",
    "        .orderBy(\"fio\",ascending=False)\\\n",
    "        .groupby(\"fio\")\\\n",
    "        .count()\\\n",
    "        .orderBy(\"count\",ascending=False)\\\n",
    "        .show()"
   ]
  }
 ],
 "metadata": {
  "kernelspec": {
   "display_name": "Python 3 (ipykernel)",
   "language": "python",
   "name": "python3"
  },
  "language_info": {
   "codemirror_mode": {
    "name": "ipython",
    "version": 3
   },
   "file_extension": ".py",
   "mimetype": "text/x-python",
   "name": "python",
   "nbconvert_exporter": "python",
   "pygments_lexer": "ipython3",
   "version": "3.9.13"
  }
 },
 "nbformat": 4,
 "nbformat_minor": 5
}
